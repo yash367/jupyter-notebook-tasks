{
 "cells": [
  {
   "cell_type": "code",
   "execution_count": 1,
   "id": "672429c0",
   "metadata": {},
   "outputs": [
    {
     "name": "stdout",
     "output_type": "stream",
     "text": [
      "True\n"
     ]
    }
   ],
   "source": [
    "# task 2) \n",
    "# given a string for example\n",
    "str1 = \"Welcome to python\"\n",
    "print(\"to\" in str1)"
   ]
  },
  {
   "cell_type": "code",
   "execution_count": 2,
   "id": "f927fc68",
   "metadata": {},
   "outputs": [
    {
     "name": "stdout",
     "output_type": "stream",
     "text": [
      "6\n",
      "9\n"
     ]
    }
   ],
   "source": [
    "# create a list of lenght = 10 and access 5th to 8th data.\n",
    "l1 = [1,2,3,4,5,6,7,8,9,10]\n",
    "print(l1[5])\n",
    "print(l1[8])"
   ]
  },
  {
   "cell_type": "code",
   "execution_count": 3,
   "id": "6fa47c75",
   "metadata": {},
   "outputs": [
    {
     "name": "stdout",
     "output_type": "stream",
     "text": [
      "[10, 20, [30, 40, [50, 60, 70], 80], 90, 100]\n"
     ]
    }
   ],
   "source": [
    "#Add item 70 after 60 in the following Python List\n",
    "#input\n",
    "l1 = [10, 20, [30, 40, [50, 60], 80], 90, 100]\n",
    "#output\n",
    "[10, 20, [30, 40, [50, 60, 70], 80], 90, 100]\n",
    "l1 = [10, 20, [30, 40, [50, 60], 80], 90, 100]\n",
    "l1[2][2].append(70)\n",
    "print(l1)"
   ]
  },
  {
   "cell_type": "code",
   "execution_count": 4,
   "id": "e24a9d96",
   "metadata": {},
   "outputs": [
    {
     "name": "stdout",
     "output_type": "stream",
     "text": [
      "[1, 2, [3, 4, 5, 6, 7, 8], 9]\n"
     ]
    }
   ],
   "source": [
    "#add sublist [7,8] after 6\n",
    "#input\n",
    "l2 = [1,2,[3,4,5,6],9]\n",
    "#output\n",
    "[1,2,[3,4,5,6,[7,8]],9]\n",
    "\n",
    "l2 = [1,2,[3,4,5,6],9]\n",
    "l2[2].append(7)\n",
    "l2[2].append(8)\n",
    "print(l2)\n"
   ]
  },
  {
   "cell_type": "code",
   "execution_count": 5,
   "id": "adaa76ff",
   "metadata": {},
   "outputs": [
    {
     "name": "stdout",
     "output_type": "stream",
     "text": [
      "{'april_batch': {'student': {'name': 'Mike', 'marks': {'python': 80, 'maths': 70}}}}\n"
     ]
    }
   ],
   "source": [
    "#From the above dictionary, do the following tasks\n",
    "\n",
    "#access \"Mike\"\n",
    "#access 80\n",
    "#change \"Mike\" to \"Your name\"\n",
    "#add ML = 80 and DL = 80 inside marks\n",
    "\n",
    "dict2 = { \n",
    "   \"april_batch\":{ \n",
    "      \"student\":{ \n",
    "         \"name\":\"Mike\",\n",
    "         \"marks\":{ \n",
    "            \"python\":80,\n",
    "            \"maths\":70\n",
    "         }\n",
    "      }\n",
    "   }\n",
    "}\n",
    "x = dict2\n",
    "print(x)\n"
   ]
  },
  {
   "cell_type": "code",
   "execution_count": 6,
   "id": "867469fe",
   "metadata": {},
   "outputs": [
    {
     "data": {
      "text/plain": [
       "'Mike'"
      ]
     },
     "execution_count": 6,
     "metadata": {},
     "output_type": "execute_result"
    }
   ],
   "source": [
    "dict2[\"april_batch\"][\"student\"][\"name\"]"
   ]
  },
  {
   "cell_type": "code",
   "execution_count": 7,
   "id": "41527e03",
   "metadata": {},
   "outputs": [
    {
     "data": {
      "text/plain": [
       "80"
      ]
     },
     "execution_count": 7,
     "metadata": {},
     "output_type": "execute_result"
    }
   ],
   "source": [
    "dict2[\"april_batch\"][\"student\"][\"marks\"][\"python\"]"
   ]
  },
  {
   "cell_type": "code",
   "execution_count": 8,
   "id": "80ca95c1",
   "metadata": {},
   "outputs": [
    {
     "name": "stdout",
     "output_type": "stream",
     "text": [
      "{'april_batch': {'student': {'name': 'yashavardhan', 'marks': {'python': 80, 'maths': 70}}}}\n"
     ]
    }
   ],
   "source": [
    "dict2[\"april_batch\"][\"student\"][\"name\"] = \"yashavardhan\"\n",
    "print(dict2)"
   ]
  },
  {
   "cell_type": "code",
   "execution_count": 9,
   "id": "45d3f0e8",
   "metadata": {},
   "outputs": [
    {
     "name": "stdout",
     "output_type": "stream",
     "text": [
      "{'april_batch': {'student': {'name': 'yashavardhan', 'marks': {'python': 80, 'maths': 70}}}, 'marks': ('ml : 80', 'dl : 80')}\n"
     ]
    }
   ],
   "source": [
    "dict2[\"marks\"] = \"ml : 80\", \"dl : 80\"\n",
    "print(dict2)"
   ]
  },
  {
   "cell_type": "code",
   "execution_count": 10,
   "id": "e3d58eb8",
   "metadata": {},
   "outputs": [
    {
     "name": "stdout",
     "output_type": "stream",
     "text": [
      "{'b', 'd', 'a', 'c'}\n",
      "{'c', 'g', 'f'}\n"
     ]
    }
   ],
   "source": [
    "\n",
    "#Task6 - Add and remove the elements from a tuple\n",
    "#we cannot remove items from tuples\n",
    "#Task7 - go through other inbuilt methods like\n",
    "#1) difference() 2) symmetric_difference()\n",
    "\n",
    "#difference() \n",
    "setA = {'a', 'b', 'c', 'd'}\n",
    "setB = {'c', 'f', 'g'}\n",
    "print(setA)\n",
    "print(setB)"
   ]
  },
  {
   "cell_type": "code",
   "execution_count": 12,
   "id": "808c07f3",
   "metadata": {},
   "outputs": [
    {
     "name": "stdout",
     "output_type": "stream",
     "text": [
      "{'b', 'a', 'd'}\n"
     ]
    }
   ],
   "source": [
    "setC = setA.difference(setB)\n",
    "print(setC)"
   ]
  },
  {
   "cell_type": "code",
   "execution_count": 13,
   "id": "bf175678",
   "metadata": {},
   "outputs": [
    {
     "name": "stdout",
     "output_type": "stream",
     "text": [
      "{'b', 'e', 'a'}\n",
      "{'b', 'e', 'a'}\n"
     ]
    }
   ],
   "source": [
    "\n",
    "#set symmetric_difference\n",
    "A = {'a', 'b', 'c', 'd'}\n",
    "B = {'c', 'd', 'e' }\n",
    "C = {}\n",
    "print(A.symmetric_difference(B))\n",
    "print(B.symmetric_difference(A))"
   ]
  },
  {
   "cell_type": "code",
   "execution_count": 14,
   "id": "befa72eb",
   "metadata": {},
   "outputs": [
    {
     "name": "stdout",
     "output_type": "stream",
     "text": [
      "enter firt number: 12\n",
      "enter second number: 2\n",
      "sum: 14\n"
     ]
    }
   ],
   "source": [
    "#Task9\n",
    "#Ask 2 numbers from users and store it in num1 and num2\n",
    "#Ask user to press 1 for addition,2 for subtraction,3 for multiplication and 4 for division\n",
    "#based on number given by user do the math operation\n",
    "\n",
    "a = int(input(\"enter firt number: \"))\n",
    "b = int(input(\"enter second number: \"))\n",
    "sum = a + b\n",
    "print(\"sum:\", sum)\n"
   ]
  },
  {
   "cell_type": "code",
   "execution_count": 15,
   "id": "61ead2f6",
   "metadata": {},
   "outputs": [
    {
     "name": "stdout",
     "output_type": "stream",
     "text": [
      "enter firt number: 23\n",
      "enter second number: 2\n",
      "sum: 46\n"
     ]
    }
   ],
   "source": [
    "a = int(input(\"enter firt number: \"))\n",
    "b = int(input(\"enter second number: \"))\n",
    "mul = a * b\n",
    "print(\"sum:\", mul)"
   ]
  },
  {
   "cell_type": "code",
   "execution_count": 16,
   "id": "31b213d8",
   "metadata": {},
   "outputs": [
    {
     "name": "stdout",
     "output_type": "stream",
     "text": [
      "enter firt number: 23\n",
      "enter second number: 3\n",
      "sum: 20\n"
     ]
    }
   ],
   "source": [
    "a = int(input(\"enter firt number: \"))\n",
    "b = int(input(\"enter second number: \"))\n",
    "sub = a - b\n",
    "print(\"sum:\", sub)\n"
   ]
  },
  {
   "cell_type": "code",
   "execution_count": 17,
   "id": "e6062ed2",
   "metadata": {},
   "outputs": [
    {
     "name": "stdout",
     "output_type": "stream",
     "text": [
      "enter firt number: 23\n",
      "enter second number: 3\n",
      "3\n",
      "num\n"
     ]
    }
   ],
   "source": [
    "#Ask 2 numbers from users and store it in num1 and num2\n",
    "a = int(input(\"enter firt number: \"))\n",
    "b = int(input(\"enter second number: \"))\n",
    "num = input()\n",
    "print(\"num\")"
   ]
  },
  {
   "cell_type": "code",
   "execution_count": null,
   "id": "f68f98a7",
   "metadata": {},
   "outputs": [],
   "source": []
  }
 ],
 "metadata": {
  "kernelspec": {
   "display_name": "Python 3",
   "language": "python",
   "name": "python3"
  },
  "language_info": {
   "codemirror_mode": {
    "name": "ipython",
    "version": 3
   },
   "file_extension": ".py",
   "mimetype": "text/x-python",
   "name": "python",
   "nbconvert_exporter": "python",
   "pygments_lexer": "ipython3",
   "version": "3.8.8"
  }
 },
 "nbformat": 4,
 "nbformat_minor": 5
}
