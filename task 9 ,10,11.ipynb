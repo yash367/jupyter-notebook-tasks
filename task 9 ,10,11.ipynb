{
 "cells": [
  {
   "cell_type": "code",
   "execution_count": 1,
   "id": "6948815f",
   "metadata": {},
   "outputs": [
    {
     "name": "stdout",
     "output_type": "stream",
     "text": [
      "enter number 1 11\n",
      "enter number 2 6\n"
     ]
    },
    {
     "data": {
      "text/plain": [
       "17"
      ]
     },
     "execution_count": 1,
     "metadata": {},
     "output_type": "execute_result"
    }
   ],
   "source": [
    "'''Task 11.1\n",
    "\n",
    "\n",
    "\"Explain Return keyword with example.\"\n",
    "\n",
    "Ans : Return keyword is used to return any particular desired output of a function, it indicates that the function teriminates with the return statement. Codes in the function below return statement won't be executed.\n",
    "'''\n",
    "\n",
    "\n",
    "def ad(x,y):\n",
    "    s=(x+y)\n",
    "    return s\n",
    "    print(s) # this statement won't be executed, only one time s will be obtained in output.\n",
    "    \n",
    "\n",
    "    \n",
    "num1=int(input(\"enter number 1 \"))\n",
    "num2=int(input(\"enter number 2 \"))\n",
    "\n",
    "\n",
    "\n",
    "ad(num1, num2)\n",
    "ad(11,6)"
   ]
  },
  {
   "cell_type": "code",
   "execution_count": 4,
   "id": "99686ed4",
   "metadata": {},
   "outputs": [
    {
     "name": "stdout",
     "output_type": "stream",
     "text": [
      "enter number 1 1\n",
      "enter number 2 3\n",
      "Enter the Operation key4\n",
      "0.3333333333333333\n"
     ]
    }
   ],
   "source": [
    "\n",
    "num1=int(input(\"enter number 1 \"))\n",
    "num2=int(input(\"enter number 2 \"))\n",
    "key=int(input(\"Enter the Operation key\"))\n",
    "\n",
    "\n",
    "def ad(x,y):\n",
    "    s=(x+y)\n",
    "    print(s)\n",
    "\n",
    "def sub(x,y):\n",
    "    d=(x-y)\n",
    "    print(d)\n",
    "\n",
    "def mul(x,y):\n",
    "    p=(x*y)\n",
    "    print(p)\n",
    "    \n",
    "def div(x,y):\n",
    "    d=(x/y)\n",
    "    print(d)\n",
    "\n",
    "if(key==1):\n",
    "    ad(num1,num2)\n",
    "elif(key==2):\n",
    "    sub(num1,num2)\n",
    "elif(key==3):\n",
    "    mul(num1,num2)\n",
    "elif(key==4):\n",
    "    div(num1,num2)\n",
    "else:\n",
    "    print(\"Invalid key\")"
   ]
  },
  {
   "cell_type": "code",
   "execution_count": 5,
   "id": "ac72bd64",
   "metadata": {},
   "outputs": [
    {
     "name": "stdout",
     "output_type": "stream",
     "text": [
      "0\n",
      "3\n",
      "6\n",
      "9\n",
      "12\n",
      "15\n",
      "18\n",
      "21\n",
      "24\n",
      "27\n"
     ]
    }
   ],
   "source": [
    "#task10\n",
    "\n",
    "# To print multiples of 3 in the given range\n",
    "for i in range(0,30):\n",
    "    if(i%3!=0):\n",
    "        continue\n",
    "    else:\n",
    "        print(i)"
   ]
  },
  {
   "cell_type": "code",
   "execution_count": 6,
   "id": "767c3a96",
   "metadata": {},
   "outputs": [
    {
     "name": "stdout",
     "output_type": "stream",
     "text": [
      "yash\n",
      "vardhan\n",
      "shivaganga\n",
      "chitradurga\n"
     ]
    }
   ],
   "source": [
    "#Task 10.2 \n",
    "\n",
    "#\"What is pass keyword, with example.\"\n",
    "lst=['yash','vardhan','shivaganga','chitradurga']\n",
    "for i in lst:\n",
    "    print(i)\n",
    "    pass"
   ]
  },
  {
   "cell_type": "code",
   "execution_count": 7,
   "id": "28ade025",
   "metadata": {},
   "outputs": [
    {
     "name": "stdout",
     "output_type": "stream",
     "text": [
      "ok\n"
     ]
    }
   ],
   "source": [
    "if('I'<'i'):\n",
    "    print('ok')\n",
    "else:\n",
    "    pass"
   ]
  },
  {
   "cell_type": "code",
   "execution_count": 8,
   "id": "71bdd5cb",
   "metadata": {},
   "outputs": [],
   "source": [
    "for i in range(100):\n",
    "    pass"
   ]
  },
  {
   "cell_type": "code",
   "execution_count": null,
   "id": "cd6cd69b",
   "metadata": {},
   "outputs": [],
   "source": [
    "#task9"
   ]
  },
  {
   "cell_type": "code",
   "execution_count": 9,
   "id": "6d0decd6",
   "metadata": {},
   "outputs": [
    {
     "name": "stdout",
     "output_type": "stream",
     "text": [
      "Enter number 1 23\n",
      "Enter number 2 2\n",
      "Enter operator key1\n",
      "25\n"
     ]
    }
   ],
   "source": [
    "num1=int(input(\"Enter number 1 \"))\n",
    "num2=int(input(\"Enter number 2 \"))\n",
    "key=int(input(\"Enter operator key\"))\n",
    "\n",
    "if(key==1):\n",
    "    print(num1+num2)\n",
    "elif(key==2):\n",
    "    print(num1-num2)\n",
    "elif(key==3):\n",
    "    print(num1*num2)\n",
    "elif(key==4):\n",
    "    print(num1/num2)\n",
    "else:\n",
    "    print(\"Invalid key\")"
   ]
  },
  {
   "cell_type": "code",
   "execution_count": null,
   "id": "fa7e8272",
   "metadata": {},
   "outputs": [],
   "source": []
  }
 ],
 "metadata": {
  "kernelspec": {
   "display_name": "Python 3",
   "language": "python",
   "name": "python3"
  },
  "language_info": {
   "codemirror_mode": {
    "name": "ipython",
    "version": 3
   },
   "file_extension": ".py",
   "mimetype": "text/x-python",
   "name": "python",
   "nbconvert_exporter": "python",
   "pygments_lexer": "ipython3",
   "version": "3.8.8"
  }
 },
 "nbformat": 4,
 "nbformat_minor": 5
}
